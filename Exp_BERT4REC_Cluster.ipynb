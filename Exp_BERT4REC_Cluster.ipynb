{
  "nbformat": 4,
  "nbformat_minor": 0,
  "metadata": {
    "colab": {
      "name": "BERT4Rec_Attribute-exp.ipynb",
      "provenance": [],
      "collapsed_sections": [],
      "authorship_tag": "ABX9TyOTRxeimIxUPlAfwnR0K3q7",
      "include_colab_link": true
    },
    "kernelspec": {
      "name": "python3",
      "display_name": "Python 3"
    },
    "accelerator": "GPU"
  },
  "cells": [
    {
      "cell_type": "markdown",
      "metadata": {
        "id": "view-in-github",
        "colab_type": "text"
      },
      "source": [
        "<a href=\"https://colab.research.google.com/github/russellkim/100-nlp-papers/blob/master/Exp_BERT4REC_Cluster.ipynb\" target=\"_parent\"><img src=\"https://colab.research.google.com/assets/colab-badge.svg\" alt=\"Open In Colab\"/></a>"
      ]
    },
    {
      "cell_type": "code",
      "metadata": {
        "id": "yUyZS0oDBNNs",
        "colab_type": "code",
        "colab": {
          "base_uri": "https://localhost:8080/",
          "height": 34
        },
        "outputId": "16ed0332-f806-49ea-9b00-2bfd115abd93"
      },
      "source": [
        "!ls"
      ],
      "execution_count": null,
      "outputs": [
        {
          "output_type": "stream",
          "text": [
            "sample_data\n"
          ],
          "name": "stdout"
        }
      ]
    },
    {
      "cell_type": "code",
      "metadata": {
        "id": "9Ncsmu8kmbVq",
        "colab_type": "code",
        "colab": {
          "base_uri": "https://localhost:8080/",
          "height": 168
        },
        "outputId": "db5ae946-c120-41ce-b480-44a9b2daca19"
      },
      "source": [
        "import os\n",
        "from getpass import getpass\n",
        "user = getpass('GitHub user')\n",
        "password = getpass('GitHub password')\n",
        "os.environ['GITHUB_AUTH'] = user + ':' + password\n",
        "!git clone https://$GITHUB_AUTH@github.com/russellkim/BERT4Rec-Attribute.git"
      ],
      "execution_count": null,
      "outputs": [
        {
          "output_type": "stream",
          "text": [
            "GitHub user··········\n",
            "GitHub password··········\n",
            "Cloning into 'BERT4Rec-Attribute'...\n",
            "remote: Enumerating objects: 372, done.\u001b[K\n",
            "remote: Counting objects: 100% (372/372), done.\u001b[K\n",
            "remote: Compressing objects: 100% (282/282), done.\u001b[K\n",
            "remote: Total 372 (delta 190), reused 254 (delta 83), pack-reused 0\u001b[K\n",
            "Receiving objects: 100% (372/372), 2.51 MiB | 8.72 MiB/s, done.\n",
            "Resolving deltas: 100% (190/190), done.\n"
          ],
          "name": "stdout"
        }
      ]
    },
    {
      "cell_type": "code",
      "metadata": {
        "id": "p2ZjknlZ0-SI",
        "colab_type": "code",
        "colab": {
          "base_uri": "https://localhost:8080/",
          "height": 34
        },
        "outputId": "b697deab-8626-4a82-c1fa-b9530edd71a5"
      },
      "source": [
        "!ls"
      ],
      "execution_count": null,
      "outputs": [
        {
          "output_type": "stream",
          "text": [
            "BERT4Rec-Attribute  sample_data\n"
          ],
          "name": "stdout"
        }
      ]
    },
    {
      "cell_type": "code",
      "metadata": {
        "id": "7XDV9oZ78ODz",
        "colab_type": "code",
        "colab": {
          "base_uri": "https://localhost:8080/",
          "height": 34
        },
        "outputId": "c5fd7d53-49d7-4d4f-8232-b8d5efdaf02a"
      },
      "source": [
        "cd BERT4Rec-Attribute/"
      ],
      "execution_count": null,
      "outputs": [
        {
          "output_type": "stream",
          "text": [
            "/content/BERT4Rec-Attribute\n"
          ],
          "name": "stdout"
        }
      ]
    },
    {
      "cell_type": "code",
      "metadata": {
        "id": "sCQOaWS_B4C8",
        "colab_type": "code",
        "colab": {
          "base_uri": "https://localhost:8080/",
          "height": 188
        },
        "outputId": "2807332b-58eb-4c2c-ab52-16b3117c9ad4"
      },
      "source": [
        "!pip install wget"
      ],
      "execution_count": null,
      "outputs": [
        {
          "output_type": "stream",
          "text": [
            "Collecting wget\n",
            "  Downloading https://files.pythonhosted.org/packages/47/6a/62e288da7bcda82b935ff0c6cfe542970f04e29c756b0e147251b2fb251f/wget-3.2.zip\n",
            "Building wheels for collected packages: wget\n",
            "  Building wheel for wget (setup.py) ... \u001b[?25l\u001b[?25hdone\n",
            "  Created wheel for wget: filename=wget-3.2-cp36-none-any.whl size=9682 sha256=0348173b0f0451984e1fb290ec8020df916ca275fc50c15d3f8717eb4a028936\n",
            "  Stored in directory: /root/.cache/pip/wheels/40/15/30/7d8f7cea2902b4db79e3fea550d7d7b85ecb27ef992b618f3f\n",
            "Successfully built wget\n",
            "Installing collected packages: wget\n",
            "Successfully installed wget-3.2\n"
          ],
          "name": "stdout"
        }
      ]
    },
    {
      "cell_type": "code",
      "metadata": {
        "id": "s47bZDt-B6oo",
        "colab_type": "code",
        "colab": {
          "base_uri": "https://localhost:8080/",
          "height": 34
        },
        "outputId": "433f18ba-1e7f-4e63-8d4c-13b8348ca05f"
      },
      "source": [
        "!pwd"
      ],
      "execution_count": null,
      "outputs": [
        {
          "output_type": "stream",
          "text": [
            "/content/BERT4Rec-Attribute\n"
          ],
          "name": "stdout"
        }
      ]
    },
    {
      "cell_type": "code",
      "metadata": {
        "id": "UZ1wkY4d1TXN",
        "colab_type": "code",
        "colab": {
          "base_uri": "https://localhost:8080/",
          "height": 1000
        },
        "outputId": "96a7fc98-eea6-48c5-a9cf-ae2f7f85f62c"
      },
      "source": [
        "!python code/main.py --template train_bert --device cuda --num_epochs 100 --use_genre"
      ],
      "execution_count": null,
      "outputs": [
        {
          "output_type": "stream",
          "text": [
            "Folder created: /content/BERT4Rec-Attribute/experiments/test_2020-06-19_0\n",
            "{'anneal_cap': 0.2,\n",
            " 'bert_dropout': 0.1,\n",
            " 'bert_hidden_units': 256,\n",
            " 'bert_mask_prob': 0.15,\n",
            " 'bert_max_len': 100,\n",
            " 'bert_num_blocks': 2,\n",
            " 'bert_num_heads': 4,\n",
            " 'best_metric': 'NDCG@10',\n",
            " 'dae_dropout': 0.5,\n",
            " 'dae_hidden_dim': 600,\n",
            " 'dae_latent_dim': 200,\n",
            " 'dae_num_hidden': 0,\n",
            " 'dataloader_code': 'bert',\n",
            " 'dataloader_random_seed': 0.0,\n",
            " 'dataset_code': 'ml-1m',\n",
            " 'dataset_split_seed': 98765,\n",
            " 'decay_step': 25,\n",
            " 'device': 'cuda',\n",
            " 'device_idx': '0',\n",
            " 'enable_lr_schedule': True,\n",
            " 'eval_set_size': 500,\n",
            " 'experiment_description': 'test',\n",
            " 'experiment_dir': 'experiments',\n",
            " 'find_best_beta': False,\n",
            " 'gamma': 1.0,\n",
            " 'log_period_as_iter': 12800,\n",
            " 'lr': 0.001,\n",
            " 'metric_ks': [1,\n",
            "               5,\n",
            "               10,\n",
            "               20,\n",
            "               50,\n",
            "               100],\n",
            " 'min_rating': 0,\n",
            " 'min_sc': 0,\n",
            " 'min_uc': 5,\n",
            " 'mode': 'train',\n",
            " 'model_code': 'bert',\n",
            " 'model_init_seed': 0,\n",
            " 'num_epochs': 100,\n",
            " 'num_gpu': 1,\n",
            " 'optimizer': 'Adam',\n",
            " 'split': 'leave_one_out',\n",
            " 'template': 'train_bert',\n",
            " 'test_batch_size': 128,\n",
            " 'test_negative_sample_size': 100,\n",
            " 'test_negative_sampler_code': 'random',\n",
            " 'test_negative_sampling_seed': 98765,\n",
            " 'total_anneal_steps': 2000,\n",
            " 'train_batch_size': 128,\n",
            " 'train_negative_sample_size': 0,\n",
            " 'train_negative_sampler_code': 'random',\n",
            " 'train_negative_sampling_seed': 0,\n",
            " 'trainer_code': 'bert',\n",
            " 'use_TPU': False,\n",
            " 'use_genre': True,\n",
            " 'vae_dropout': 0.5,\n",
            " 'vae_hidden_dim': 600,\n",
            " 'vae_latent_dim': 200,\n",
            " 'vae_num_hidden': 0,\n",
            " 'val_batch_size': 128,\n",
            " 'weight_decay': 0}\n",
            "Use genre mode!\n",
            "Raw file doesn't exist. Downloading... Data/ml-1m\n",
            "\n",
            "/content/BERT4Rec-Attribute/code/datasets/ml_1m.py:32: ParserWarning: Falling back to the 'python' engine because the 'c' engine does not support regex separators (separators > 1 char and different from '\\s+' are interpreted as regex); you can avoid this warning by specifying engine='python'.\n",
            "  df = pd.read_csv(file_path, sep='::', header=None)\n",
            "Turning into implicit ratings\n",
            "Filtering triplets\n",
            "Densifying index\n",
            "Splitting\n",
            "100% 6040/6040 [00:02<00:00, 2366.52it/s]\n",
            "len.self.dmovie_info= 3706\n",
            "Negative samples don't exist. Generating.\n",
            "Sampling negative items\n",
            "100% 6040/6040 [00:00<00:00, 131105.24it/s]\n",
            "Negative samples don't exist. Generating.\n",
            "Sampling negative items\n",
            "100% 6040/6040 [00:03<00:00, 1918.07it/s]\n",
            "BERTModel(\n",
            "  (bert): BERT(\n",
            "    (embedding): BERTEmbedding(\n",
            "      (token): TokenEmbedding(3708, 256, padding_idx=0)\n",
            "      (position): PositionalEmbedding(\n",
            "        (pe): Embedding(100, 256)\n",
            "      )\n",
            "      (genre): TokenEmbedding(3707, 256, padding_idx=0)\n",
            "      (dropout): Dropout(p=0.1, inplace=False)\n",
            "    )\n",
            "    (transformer_blocks): ModuleList(\n",
            "      (0): TransformerBlock(\n",
            "        (attention): MultiHeadedAttention(\n",
            "          (linear_layers): ModuleList(\n",
            "            (0): Linear(in_features=256, out_features=256, bias=True)\n",
            "            (1): Linear(in_features=256, out_features=256, bias=True)\n",
            "            (2): Linear(in_features=256, out_features=256, bias=True)\n",
            "          )\n",
            "          (output_linear): Linear(in_features=256, out_features=256, bias=True)\n",
            "          (attention): Attention()\n",
            "          (dropout): Dropout(p=0.1, inplace=False)\n",
            "        )\n",
            "        (feed_forward): PositionwiseFeedForward(\n",
            "          (w_1): Linear(in_features=256, out_features=1024, bias=True)\n",
            "          (w_2): Linear(in_features=1024, out_features=256, bias=True)\n",
            "          (dropout): Dropout(p=0.1, inplace=False)\n",
            "          (activation): GELU()\n",
            "        )\n",
            "        (input_sublayer): SublayerConnection(\n",
            "          (norm): LayerNorm()\n",
            "          (dropout): Dropout(p=0.1, inplace=False)\n",
            "        )\n",
            "        (output_sublayer): SublayerConnection(\n",
            "          (norm): LayerNorm()\n",
            "          (dropout): Dropout(p=0.1, inplace=False)\n",
            "        )\n",
            "        (dropout): Dropout(p=0.1, inplace=False)\n",
            "      )\n",
            "      (1): TransformerBlock(\n",
            "        (attention): MultiHeadedAttention(\n",
            "          (linear_layers): ModuleList(\n",
            "            (0): Linear(in_features=256, out_features=256, bias=True)\n",
            "            (1): Linear(in_features=256, out_features=256, bias=True)\n",
            "            (2): Linear(in_features=256, out_features=256, bias=True)\n",
            "          )\n",
            "          (output_linear): Linear(in_features=256, out_features=256, bias=True)\n",
            "          (attention): Attention()\n",
            "          (dropout): Dropout(p=0.1, inplace=False)\n",
            "        )\n",
            "        (feed_forward): PositionwiseFeedForward(\n",
            "          (w_1): Linear(in_features=256, out_features=1024, bias=True)\n",
            "          (w_2): Linear(in_features=1024, out_features=256, bias=True)\n",
            "          (dropout): Dropout(p=0.1, inplace=False)\n",
            "          (activation): GELU()\n",
            "        )\n",
            "        (input_sublayer): SublayerConnection(\n",
            "          (norm): LayerNorm()\n",
            "          (dropout): Dropout(p=0.1, inplace=False)\n",
            "        )\n",
            "        (output_sublayer): SublayerConnection(\n",
            "          (norm): LayerNorm()\n",
            "          (dropout): Dropout(p=0.1, inplace=False)\n",
            "        )\n",
            "        (dropout): Dropout(p=0.1, inplace=False)\n",
            "      )\n",
            "    )\n",
            "  )\n",
            "  (out): Linear(in_features=256, out_features=3707, bias=True)\n",
            ")\n",
            "2020-06-19 03:29:32.768191: I tensorflow/stream_executor/platform/default/dso_loader.cc:44] Successfully opened dynamic library libcudart.so.10.1\n",
            "Val: N@1 0.011, N@5 0.027, N@10 0.043, R@1 0.011, R@5 0.043, R@10 0.093: 100% 48/48 [00:08<00:00,  5.36it/s]\n",
            "/usr/local/lib/python3.6/dist-packages/torch/optim/lr_scheduler.py:123: UserWarning: Detected call of `lr_scheduler.step()` before `optimizer.step()`. In PyTorch 1.1.0 and later, you should call them in the opposite order: `optimizer.step()` before `lr_scheduler.step()`.  Failure to do this will result in PyTorch skipping the first value of the learning rate schedule. See more details at https://pytorch.org/docs/stable/optim.html#how-to-adjust-learning-rate\n",
            "  \"https://pytorch.org/docs/stable/optim.html#how-to-adjust-learning-rate\", UserWarning)\n",
            "Epoch 1, loss 7.833 : 100% 48/48 [00:03<00:00, 13.36it/s]\n",
            "Val: N@1 0.085, N@5 0.188, N@10 0.237, R@1 0.085, R@5 0.290, R@10 0.441: 100% 48/48 [00:02<00:00, 23.21it/s]\n",
            "Epoch 2, loss 7.235 : 100% 48/48 [00:03<00:00, 13.49it/s]\n",
            "Val: N@1 0.100, N@5 0.217, N@10 0.271, R@1 0.100, R@5 0.333, R@10 0.499: 100% 48/48 [00:02<00:00, 23.25it/s]\n",
            "Epoch 3, loss 6.917 : 100% 48/48 [00:03<00:00, 13.55it/s]\n",
            "Val: N@1 0.128, N@5 0.276, N@10 0.330, R@1 0.128, R@5 0.416, R@10 0.585: 100% 48/48 [00:02<00:00, 23.19it/s]\n",
            "Epoch 4, loss 6.708 : 100% 48/48 [00:03<00:00, 13.51it/s]\n",
            "Val: N@1 0.163, N@5 0.328, N@10 0.377, R@1 0.163, R@5 0.484, R@10 0.636: 100% 48/48 [00:02<00:00, 22.94it/s]\n",
            "Epoch 5, loss 6.501 : 100% 48/48 [00:03<00:00, 13.49it/s]\n",
            "Val: N@1 0.191, N@5 0.363, N@10 0.414, R@1 0.191, R@5 0.523, R@10 0.678: 100% 48/48 [00:02<00:00, 23.26it/s]\n",
            "Epoch 6, loss 6.358 : 100% 48/48 [00:03<00:00, 13.42it/s]\n",
            "Val: N@1 0.212, N@5 0.382, N@10 0.432, R@1 0.212, R@5 0.540, R@10 0.691: 100% 48/48 [00:02<00:00, 23.23it/s]\n",
            "Epoch 7, loss 6.209 : 100% 48/48 [00:03<00:00, 13.51it/s]\n",
            "Val: N@1 0.223, N@5 0.398, N@10 0.444, R@1 0.223, R@5 0.558, R@10 0.701: 100% 48/48 [00:02<00:00, 22.90it/s]\n",
            "Epoch 8, loss 6.120 : 100% 48/48 [00:03<00:00, 13.48it/s]\n",
            "Val: N@1 0.251, N@5 0.432, N@10 0.476, R@1 0.251, R@5 0.597, R@10 0.732: 100% 48/48 [00:02<00:00, 23.43it/s]\n",
            "Epoch 9, loss 6.029 : 100% 48/48 [00:03<00:00, 13.51it/s]\n",
            "Val: N@1 0.259, N@5 0.442, N@10 0.485, R@1 0.259, R@5 0.609, R@10 0.742: 100% 48/48 [00:02<00:00, 23.36it/s]\n",
            "Epoch 10, loss 5.922 : 100% 48/48 [00:03<00:00, 13.54it/s]\n",
            "Val: N@1 0.267, N@5 0.449, N@10 0.490, R@1 0.267, R@5 0.613, R@10 0.739: 100% 48/48 [00:02<00:00, 23.18it/s]\n",
            "save model... 9\n",
            "Update Best NDCG@10 Model at 10\n",
            "Epoch 11, loss 5.868 : 100% 48/48 [00:03<00:00, 13.46it/s]\n",
            "Val: N@1 0.281, N@5 0.465, N@10 0.506, R@1 0.281, R@5 0.629, R@10 0.755: 100% 48/48 [00:02<00:00, 23.26it/s]\n",
            "Epoch 12, loss 5.797 : 100% 48/48 [00:03<00:00, 13.45it/s]\n",
            "Val: N@1 0.306, N@5 0.486, N@10 0.525, R@1 0.306, R@5 0.646, R@10 0.767: 100% 48/48 [00:02<00:00, 23.19it/s]\n",
            "Epoch 13, loss 5.745 : 100% 48/48 [00:03<00:00, 13.49it/s]\n",
            "Val: N@1 0.299, N@5 0.485, N@10 0.523, R@1 0.299, R@5 0.650, R@10 0.765: 100% 48/48 [00:02<00:00, 23.11it/s]\n",
            "Epoch 14, loss 5.688 : 100% 48/48 [00:03<00:00, 13.52it/s]\n",
            "Val: N@1 0.303, N@5 0.483, N@10 0.520, R@1 0.303, R@5 0.643, R@10 0.755: 100% 48/48 [00:02<00:00, 23.15it/s]\n",
            "Epoch 15, loss 5.633 : 100% 48/48 [00:03<00:00, 13.48it/s]\n",
            "Val: N@1 0.319, N@5 0.503, N@10 0.540, R@1 0.319, R@5 0.665, R@10 0.780: 100% 48/48 [00:02<00:00, 23.44it/s]\n",
            "Epoch 16, loss 5.589 : 100% 48/48 [00:03<00:00, 13.48it/s]\n",
            "Val: N@1 0.321, N@5 0.502, N@10 0.538, R@1 0.321, R@5 0.660, R@10 0.770: 100% 48/48 [00:02<00:00, 23.25it/s]\n",
            "Epoch 17, loss 5.551 : 100% 48/48 [00:03<00:00, 13.48it/s]\n",
            "Val: N@1 0.322, N@5 0.506, N@10 0.542, R@1 0.322, R@5 0.670, R@10 0.781: 100% 48/48 [00:02<00:00, 23.31it/s]\n",
            "Epoch 18, loss 5.525 : 100% 48/48 [00:03<00:00, 13.52it/s]\n",
            "Val: N@1 0.340, N@5 0.518, N@10 0.553, R@1 0.340, R@5 0.673, R@10 0.780: 100% 48/48 [00:02<00:00, 22.65it/s]\n",
            "Epoch 19, loss 5.496 : 100% 48/48 [00:03<00:00, 13.44it/s]\n",
            "Val: N@1 0.324, N@5 0.506, N@10 0.542, R@1 0.324, R@5 0.664, R@10 0.775: 100% 48/48 [00:02<00:00, 23.06it/s]\n",
            "Epoch 20, loss 5.469 : 100% 48/48 [00:03<00:00, 13.49it/s]\n",
            "Val: N@1 0.339, N@5 0.516, N@10 0.551, R@1 0.339, R@5 0.670, R@10 0.781: 100% 48/48 [00:02<00:00, 23.16it/s]\n",
            "save model... 19\n",
            "Update Best NDCG@10 Model at 20\n",
            "Epoch 21, loss 5.432 : 100% 48/48 [00:03<00:00, 13.43it/s]\n",
            "Val: N@1 0.342, N@5 0.520, N@10 0.556, R@1 0.342, R@5 0.674, R@10 0.783: 100% 48/48 [00:02<00:00, 23.18it/s]\n",
            "Epoch 22, loss 5.405 : 100% 48/48 [00:03<00:00, 13.51it/s]\n",
            "Val: N@1 0.349, N@5 0.526, N@10 0.563, R@1 0.349, R@5 0.680, R@10 0.794: 100% 48/48 [00:02<00:00, 23.20it/s]\n",
            "Epoch 23, loss 5.368 : 100% 48/48 [00:03<00:00, 13.50it/s]\n",
            "Val: N@1 0.347, N@5 0.523, N@10 0.560, R@1 0.347, R@5 0.677, R@10 0.791: 100% 48/48 [00:02<00:00, 23.29it/s]\n",
            "Epoch 24, loss 5.353 : 100% 48/48 [00:03<00:00, 13.52it/s]\n",
            "Val: N@1 0.346, N@5 0.525, N@10 0.561, R@1 0.346, R@5 0.682, R@10 0.793: 100% 48/48 [00:02<00:00, 23.42it/s]\n",
            "Epoch 25, loss 5.318 : 100% 48/48 [00:03<00:00, 13.46it/s]\n",
            "Val: N@1 0.354, N@5 0.533, N@10 0.568, R@1 0.354, R@5 0.688, R@10 0.794: 100% 48/48 [00:02<00:00, 23.14it/s]\n",
            "Epoch 26, loss 5.315 : 100% 48/48 [00:03<00:00, 13.53it/s]\n",
            "Val: N@1 0.349, N@5 0.527, N@10 0.561, R@1 0.349, R@5 0.682, R@10 0.785: 100% 48/48 [00:02<00:00, 23.34it/s]\n",
            "Epoch 27, loss 5.284 : 100% 48/48 [00:03<00:00, 13.42it/s]\n",
            "Val: N@1 0.357, N@5 0.537, N@10 0.571, R@1 0.357, R@5 0.693, R@10 0.795: 100% 48/48 [00:02<00:00, 23.23it/s]\n",
            "Epoch 28, loss 5.291 : 100% 48/48 [00:03<00:00, 13.52it/s]\n",
            "Val: N@1 0.362, N@5 0.542, N@10 0.576, R@1 0.362, R@5 0.696, R@10 0.800: 100% 48/48 [00:02<00:00, 23.29it/s]\n",
            "Epoch 29, loss 5.283 : 100% 48/48 [00:03<00:00, 13.29it/s]\n",
            "Val: N@1 0.358, N@5 0.539, N@10 0.571, R@1 0.358, R@5 0.696, R@10 0.795: 100% 48/48 [00:02<00:00, 23.14it/s]\n",
            "Epoch 30, loss 5.250 : 100% 48/48 [00:03<00:00, 13.50it/s]\n",
            "Val: N@1 0.366, N@5 0.544, N@10 0.578, R@1 0.366, R@5 0.696, R@10 0.801: 100% 48/48 [00:02<00:00, 23.29it/s]\n",
            "save model... 29\n",
            "Update Best NDCG@10 Model at 30\n",
            "Epoch 31, loss 5.223 : 100% 48/48 [00:03<00:00, 13.45it/s]\n",
            "Val: N@1 0.374, N@5 0.549, N@10 0.582, R@1 0.374, R@5 0.702, R@10 0.801: 100% 48/48 [00:02<00:00, 23.30it/s]\n",
            "Epoch 32, loss 5.217 : 100% 48/48 [00:03<00:00, 13.57it/s]\n",
            "Val: N@1 0.364, N@5 0.541, N@10 0.576, R@1 0.364, R@5 0.695, R@10 0.803: 100% 48/48 [00:02<00:00, 22.97it/s]\n",
            "Epoch 33, loss 5.208 : 100% 48/48 [00:03<00:00, 13.59it/s]\n",
            "Val: N@1 0.371, N@5 0.551, N@10 0.584, R@1 0.371, R@5 0.707, R@10 0.810: 100% 48/48 [00:02<00:00, 23.19it/s]\n",
            "Epoch 34, loss 5.169 : 100% 48/48 [00:03<00:00, 13.51it/s]\n",
            "Val: N@1 0.371, N@5 0.549, N@10 0.585, R@1 0.371, R@5 0.703, R@10 0.813: 100% 48/48 [00:02<00:00, 22.84it/s]\n",
            "Epoch 35, loss 5.172 : 100% 48/48 [00:03<00:00, 13.55it/s]\n",
            "Val: N@1 0.375, N@5 0.553, N@10 0.586, R@1 0.375, R@5 0.707, R@10 0.807: 100% 48/48 [00:02<00:00, 23.13it/s]\n",
            "Epoch 36, loss 5.165 : 100% 48/48 [00:03<00:00, 13.50it/s]\n",
            "Val: N@1 0.368, N@5 0.548, N@10 0.582, R@1 0.368, R@5 0.701, R@10 0.804: 100% 48/48 [00:02<00:00, 23.07it/s]\n",
            "Epoch 37, loss 5.138 : 100% 48/48 [00:03<00:00, 13.46it/s]\n",
            "Val: N@1 0.373, N@5 0.553, N@10 0.586, R@1 0.373, R@5 0.705, R@10 0.808: 100% 48/48 [00:02<00:00, 22.13it/s]\n",
            "Epoch 38, loss 5.142 : 100% 48/48 [00:03<00:00, 13.44it/s]\n",
            "Val: N@1 0.378, N@5 0.555, N@10 0.589, R@1 0.378, R@5 0.707, R@10 0.812: 100% 48/48 [00:02<00:00, 23.34it/s]\n",
            "Epoch 39, loss 5.117 : 100% 48/48 [00:03<00:00, 13.49it/s]\n",
            "Val: N@1 0.377, N@5 0.554, N@10 0.587, R@1 0.377, R@5 0.704, R@10 0.809: 100% 48/48 [00:02<00:00, 23.14it/s]\n",
            "Epoch 40, loss 5.111 : 100% 48/48 [00:03<00:00, 13.55it/s]\n",
            "Val: N@1 0.373, N@5 0.553, N@10 0.587, R@1 0.373, R@5 0.704, R@10 0.808: 100% 48/48 [00:02<00:00, 23.28it/s]\n",
            "save model... 39\n",
            "Update Best NDCG@10 Model at 40\n",
            "Epoch 41, loss 5.110 : 100% 48/48 [00:03<00:00, 13.46it/s]\n",
            "Val: N@1 0.385, N@5 0.563, N@10 0.596, R@1 0.385, R@5 0.715, R@10 0.816: 100% 48/48 [00:02<00:00, 23.25it/s]\n",
            "Epoch 42, loss 5.091 : 100% 48/48 [00:03<00:00, 13.51it/s]\n",
            "Val: N@1 0.379, N@5 0.554, N@10 0.586, R@1 0.379, R@5 0.703, R@10 0.802: 100% 48/48 [00:02<00:00, 23.26it/s]\n",
            "Epoch 43, loss 5.071 : 100% 48/48 [00:03<00:00, 13.48it/s]\n",
            "Val: N@1 0.383, N@5 0.559, N@10 0.589, R@1 0.383, R@5 0.709, R@10 0.803: 100% 48/48 [00:02<00:00, 22.89it/s]\n",
            "Epoch 44, loss 5.045 : 100% 48/48 [00:03<00:00, 13.51it/s]\n",
            "Val: N@1 0.383, N@5 0.558, N@10 0.591, R@1 0.383, R@5 0.706, R@10 0.806: 100% 48/48 [00:02<00:00, 23.02it/s]\n",
            "Epoch 45, loss 5.066 : 100% 48/48 [00:03<00:00, 13.52it/s]\n",
            "Val: N@1 0.390, N@5 0.561, N@10 0.594, R@1 0.390, R@5 0.706, R@10 0.810: 100% 48/48 [00:02<00:00, 23.23it/s]\n",
            "Epoch 46, loss 5.038 : 100% 48/48 [00:03<00:00, 13.48it/s]\n",
            "Val: N@1 0.379, N@5 0.555, N@10 0.587, R@1 0.379, R@5 0.704, R@10 0.802: 100% 48/48 [00:02<00:00, 23.38it/s]\n",
            "Epoch 47, loss 5.042 : 100% 48/48 [00:03<00:00, 13.43it/s]\n",
            "Val: N@1 0.390, N@5 0.561, N@10 0.594, R@1 0.390, R@5 0.707, R@10 0.809: 100% 48/48 [00:02<00:00, 22.90it/s]\n",
            "Epoch 48, loss 5.023 : 100% 48/48 [00:03<00:00, 13.50it/s]\n",
            "Val: N@1 0.381, N@5 0.561, N@10 0.593, R@1 0.381, R@5 0.713, R@10 0.812: 100% 48/48 [00:02<00:00, 22.85it/s]\n",
            "Epoch 49, loss 5.006 : 100% 48/48 [00:03<00:00, 13.35it/s]\n",
            "Val: N@1 0.389, N@5 0.563, N@10 0.595, R@1 0.389, R@5 0.710, R@10 0.809: 100% 48/48 [00:02<00:00, 22.90it/s]\n",
            "Epoch 50, loss 5.002 : 100% 48/48 [00:03<00:00, 13.37it/s]\n",
            "Val: N@1 0.381, N@5 0.559, N@10 0.591, R@1 0.381, R@5 0.709, R@10 0.808: 100% 48/48 [00:02<00:00, 22.83it/s]\n",
            "save model... 49\n",
            "Update Best NDCG@10 Model at 50\n",
            "Epoch 51, loss 4.990 : 100% 48/48 [00:03<00:00, 13.46it/s]\n",
            "Val: N@1 0.377, N@5 0.551, N@10 0.583, R@1 0.377, R@5 0.699, R@10 0.797: 100% 48/48 [00:02<00:00, 22.92it/s]\n",
            "Epoch 52, loss 4.994 : 100% 48/48 [00:03<00:00, 13.48it/s]\n",
            "Val: N@1 0.392, N@5 0.565, N@10 0.596, R@1 0.392, R@5 0.714, R@10 0.811: 100% 48/48 [00:02<00:00, 23.19it/s]\n",
            "Logging to Tensorboard: 100% 48/48 [00:03<00:00, 13.45it/s]\n",
            "Val: N@1 0.398, N@5 0.571, N@10 0.601, R@1 0.398, R@5 0.718, R@10 0.810: 100% 48/48 [00:02<00:00, 23.31it/s]\n",
            "Epoch 54, loss 4.966 : 100% 48/48 [00:03<00:00, 13.61it/s]\n",
            "Val: N@1 0.399, N@5 0.569, N@10 0.600, R@1 0.399, R@5 0.715, R@10 0.812: 100% 48/48 [00:02<00:00, 23.24it/s]\n",
            "Epoch 55, loss 4.964 : 100% 48/48 [00:03<00:00, 13.48it/s]\n",
            "Val: N@1 0.385, N@5 0.558, N@10 0.589, R@1 0.385, R@5 0.707, R@10 0.801: 100% 48/48 [00:02<00:00, 23.50it/s]\n",
            "Epoch 56, loss 4.960 : 100% 48/48 [00:03<00:00, 13.48it/s]\n",
            "Val: N@1 0.390, N@5 0.564, N@10 0.595, R@1 0.390, R@5 0.714, R@10 0.809: 100% 48/48 [00:02<00:00, 23.13it/s]\n",
            "Epoch 57, loss 4.954 : 100% 48/48 [00:03<00:00, 13.45it/s]\n",
            "Val: N@1 0.383, N@5 0.557, N@10 0.588, R@1 0.383, R@5 0.707, R@10 0.803: 100% 48/48 [00:02<00:00, 23.26it/s]\n",
            "Epoch 58, loss 4.939 : 100% 48/48 [00:03<00:00, 13.49it/s]\n",
            "Val: N@1 0.399, N@5 0.572, N@10 0.602, R@1 0.399, R@5 0.720, R@10 0.812: 100% 48/48 [00:02<00:00, 23.09it/s]\n",
            "Epoch 59, loss 4.947 : 100% 48/48 [00:03<00:00, 13.57it/s]\n",
            "Val: N@1 0.390, N@5 0.563, N@10 0.594, R@1 0.390, R@5 0.712, R@10 0.807: 100% 48/48 [00:02<00:00, 23.29it/s]\n",
            "Epoch 60, loss 4.937 : 100% 48/48 [00:03<00:00, 13.55it/s]\n",
            "Val: N@1 0.401, N@5 0.572, N@10 0.602, R@1 0.401, R@5 0.719, R@10 0.811: 100% 48/48 [00:02<00:00, 23.21it/s]\n",
            "save model... 59\n",
            "Update Best NDCG@10 Model at 60\n",
            "Epoch 61, loss 4.931 : 100% 48/48 [00:03<00:00, 13.40it/s]\n",
            "Val: N@1 0.397, N@5 0.570, N@10 0.601, R@1 0.397, R@5 0.722, R@10 0.814: 100% 48/48 [00:02<00:00, 22.75it/s]\n",
            "Epoch 62, loss 4.933 : 100% 48/48 [00:03<00:00, 13.51it/s]\n",
            "Val: N@1 0.398, N@5 0.571, N@10 0.602, R@1 0.398, R@5 0.720, R@10 0.815: 100% 48/48 [00:02<00:00, 23.25it/s]\n",
            "Epoch 63, loss 4.922 : 100% 48/48 [00:03<00:00, 13.47it/s]\n",
            "Val: N@1 0.395, N@5 0.568, N@10 0.599, R@1 0.395, R@5 0.717, R@10 0.811: 100% 48/48 [00:02<00:00, 23.31it/s]\n",
            "Epoch 64, loss 4.901 : 100% 48/48 [00:03<00:00, 13.46it/s]\n",
            "Val: N@1 0.396, N@5 0.569, N@10 0.599, R@1 0.396, R@5 0.718, R@10 0.810: 100% 48/48 [00:02<00:00, 23.15it/s]\n",
            "Epoch 65, loss 4.909 : 100% 48/48 [00:03<00:00, 13.48it/s]\n",
            "Val: N@1 0.393, N@5 0.568, N@10 0.599, R@1 0.393, R@5 0.720, R@10 0.816: 100% 48/48 [00:02<00:00, 23.41it/s]\n",
            "Epoch 66, loss 4.898 : 100% 48/48 [00:03<00:00, 13.47it/s]\n",
            "Val: N@1 0.392, N@5 0.568, N@10 0.598, R@1 0.392, R@5 0.720, R@10 0.811: 100% 48/48 [00:02<00:00, 23.04it/s]\n",
            "Epoch 67, loss 4.905 : 100% 48/48 [00:03<00:00, 13.51it/s]\n",
            "Val: N@1 0.399, N@5 0.572, N@10 0.604, R@1 0.399, R@5 0.721, R@10 0.821: 100% 48/48 [00:02<00:00, 22.94it/s]\n",
            "Epoch 68, loss 4.887 : 100% 48/48 [00:03<00:00, 13.49it/s]\n",
            "Val: N@1 0.396, N@5 0.570, N@10 0.602, R@1 0.396, R@5 0.721, R@10 0.817: 100% 48/48 [00:02<00:00, 23.38it/s]\n",
            "Epoch 69, loss 4.885 : 100% 48/48 [00:03<00:00, 13.52it/s]\n",
            "Val: N@1 0.396, N@5 0.569, N@10 0.600, R@1 0.396, R@5 0.720, R@10 0.815: 100% 48/48 [00:02<00:00, 23.07it/s]\n",
            "Epoch 70, loss 4.892 : 100% 48/48 [00:03<00:00, 13.52it/s]\n",
            "Val: N@1 0.396, N@5 0.569, N@10 0.601, R@1 0.396, R@5 0.718, R@10 0.815: 100% 48/48 [00:02<00:00, 23.08it/s]\n",
            "save model... 69\n",
            "Epoch 71, loss 4.876 : 100% 48/48 [00:03<00:00, 13.48it/s]\n",
            "Val: N@1 0.396, N@5 0.573, N@10 0.605, R@1 0.396, R@5 0.723, R@10 0.819: 100% 48/48 [00:02<00:00, 23.16it/s]\n",
            "Epoch 72, loss 4.868 : 100% 48/48 [00:03<00:00, 13.46it/s]\n",
            "Val: N@1 0.395, N@5 0.568, N@10 0.599, R@1 0.395, R@5 0.717, R@10 0.813: 100% 48/48 [00:02<00:00, 23.21it/s]\n",
            "Epoch 73, loss 4.873 : 100% 48/48 [00:03<00:00, 13.53it/s]\n",
            "Val: N@1 0.398, N@5 0.567, N@10 0.599, R@1 0.398, R@5 0.712, R@10 0.811: 100% 48/48 [00:02<00:00, 23.18it/s]\n",
            "Epoch 74, loss 4.843 : 100% 48/48 [00:03<00:00, 13.48it/s]\n",
            "Val: N@1 0.398, N@5 0.574, N@10 0.604, R@1 0.398, R@5 0.726, R@10 0.816: 100% 48/48 [00:02<00:00, 22.96it/s]\n",
            "Epoch 75, loss 4.847 : 100% 48/48 [00:03<00:00, 13.49it/s]\n",
            "Val: N@1 0.402, N@5 0.575, N@10 0.605, R@1 0.402, R@5 0.725, R@10 0.817: 100% 48/48 [00:02<00:00, 23.11it/s]\n",
            "Epoch 76, loss 4.857 : 100% 48/48 [00:03<00:00, 13.49it/s]\n",
            "Val: N@1 0.398, N@5 0.571, N@10 0.602, R@1 0.398, R@5 0.718, R@10 0.813: 100% 48/48 [00:02<00:00, 23.06it/s]\n",
            "Epoch 77, loss 4.831 : 100% 48/48 [00:03<00:00, 13.47it/s]\n",
            "Val: N@1 0.401, N@5 0.571, N@10 0.602, R@1 0.401, R@5 0.716, R@10 0.813: 100% 48/48 [00:02<00:00, 23.43it/s]\n",
            "Epoch 78, loss 4.821 : 100% 48/48 [00:03<00:00, 13.48it/s]\n",
            "Val: N@1 0.402, N@5 0.571, N@10 0.602, R@1 0.402, R@5 0.717, R@10 0.812: 100% 48/48 [00:02<00:00, 23.36it/s]\n",
            "Epoch 79, loss 4.815 : 100% 48/48 [00:03<00:00, 13.48it/s]\n",
            "Val: N@1 0.405, N@5 0.575, N@10 0.606, R@1 0.405, R@5 0.720, R@10 0.814: 100% 48/48 [00:02<00:00, 23.09it/s]\n",
            "Epoch 80, loss 4.819 : 100% 48/48 [00:03<00:00, 13.50it/s]\n",
            "Val: N@1 0.399, N@5 0.571, N@10 0.602, R@1 0.399, R@5 0.717, R@10 0.813: 100% 48/48 [00:02<00:00, 23.15it/s]\n",
            "save model... 79\n",
            "Update Best NDCG@10 Model at 80\n",
            "Epoch 81, loss 4.821 : 100% 48/48 [00:03<00:00, 13.48it/s]\n",
            "Val: N@1 0.405, N@5 0.575, N@10 0.607, R@1 0.405, R@5 0.721, R@10 0.818: 100% 48/48 [00:02<00:00, 23.22it/s]\n",
            "Epoch 82, loss 4.823 : 100% 48/48 [00:03<00:00, 13.50it/s]\n",
            "Val: N@1 0.399, N@5 0.573, N@10 0.603, R@1 0.399, R@5 0.722, R@10 0.815: 100% 48/48 [00:02<00:00, 23.18it/s]\n",
            "Epoch 83, loss 4.795 : 100% 48/48 [00:03<00:00, 13.43it/s]\n",
            "Val: N@1 0.391, N@5 0.567, N@10 0.600, R@1 0.391, R@5 0.718, R@10 0.817: 100% 48/48 [00:02<00:00, 22.99it/s]\n",
            "Epoch 84, loss 4.809 : 100% 48/48 [00:03<00:00, 13.46it/s]\n",
            "Val: N@1 0.404, N@5 0.576, N@10 0.607, R@1 0.404, R@5 0.723, R@10 0.819: 100% 48/48 [00:02<00:00, 23.31it/s]\n",
            "Epoch 85, loss 4.803 : 100% 48/48 [00:03<00:00, 13.47it/s]\n",
            "Val: N@1 0.397, N@5 0.572, N@10 0.605, R@1 0.397, R@5 0.721, R@10 0.821: 100% 48/48 [00:02<00:00, 23.25it/s]\n",
            "Epoch 86, loss 4.789 : 100% 48/48 [00:03<00:00, 13.45it/s]\n",
            "Val: N@1 0.405, N@5 0.577, N@10 0.607, R@1 0.405, R@5 0.725, R@10 0.818: 100% 48/48 [00:02<00:00, 23.24it/s]\n",
            "Epoch 87, loss 4.793 : 100% 48/48 [00:03<00:00, 13.45it/s]\n",
            "Val: N@1 0.402, N@5 0.574, N@10 0.605, R@1 0.402, R@5 0.722, R@10 0.818: 100% 48/48 [00:02<00:00, 23.38it/s]\n",
            "Epoch 88, loss 4.788 : 100% 48/48 [00:03<00:00, 13.45it/s]\n",
            "Val: N@1 0.407, N@5 0.575, N@10 0.608, R@1 0.407, R@5 0.718, R@10 0.820: 100% 48/48 [00:02<00:00, 23.22it/s]\n",
            "Epoch 89, loss 4.784 : 100% 48/48 [00:03<00:00, 13.52it/s]\n",
            "Val: N@1 0.406, N@5 0.575, N@10 0.606, R@1 0.406, R@5 0.720, R@10 0.816: 100% 48/48 [00:02<00:00, 23.15it/s]\n",
            "Epoch 90, loss 4.763 : 100% 48/48 [00:03<00:00, 13.52it/s]\n",
            "Val: N@1 0.406, N@5 0.575, N@10 0.607, R@1 0.406, R@5 0.721, R@10 0.820: 100% 48/48 [00:02<00:00, 23.13it/s]\n",
            "save model... 89\n",
            "Update Best NDCG@10 Model at 90\n",
            "Epoch 91, loss 4.781 : 100% 48/48 [00:03<00:00, 13.41it/s]\n",
            "Val: N@1 0.402, N@5 0.574, N@10 0.605, R@1 0.402, R@5 0.721, R@10 0.818: 100% 48/48 [00:02<00:00, 22.90it/s]\n",
            "Epoch 92, loss 4.759 : 100% 48/48 [00:03<00:00, 13.49it/s]\n",
            "Val: N@1 0.407, N@5 0.577, N@10 0.610, R@1 0.407, R@5 0.721, R@10 0.821: 100% 48/48 [00:02<00:00, 23.29it/s]\n",
            "Epoch 93, loss 4.763 : 100% 48/48 [00:03<00:00, 13.51it/s]\n",
            "Val: N@1 0.406, N@5 0.576, N@10 0.606, R@1 0.406, R@5 0.725, R@10 0.816: 100% 48/48 [00:02<00:00, 22.97it/s]\n",
            "Epoch 94, loss 4.740 : 100% 48/48 [00:03<00:00, 13.46it/s]\n",
            "Val: N@1 0.400, N@5 0.574, N@10 0.605, R@1 0.400, R@5 0.721, R@10 0.816: 100% 48/48 [00:02<00:00, 23.08it/s]\n",
            "Epoch 95, loss 4.743 : 100% 48/48 [00:03<00:00, 13.49it/s]\n",
            "Val: N@1 0.402, N@5 0.571, N@10 0.602, R@1 0.402, R@5 0.717, R@10 0.813: 100% 48/48 [00:02<00:00, 23.33it/s]\n",
            "Epoch 96, loss 4.739 : 100% 48/48 [00:03<00:00, 13.56it/s]\n",
            "Val: N@1 0.405, N@5 0.574, N@10 0.606, R@1 0.405, R@5 0.720, R@10 0.818: 100% 48/48 [00:02<00:00, 23.35it/s]\n",
            "Epoch 97, loss 4.749 : 100% 48/48 [00:03<00:00, 13.56it/s]\n",
            "Val: N@1 0.395, N@5 0.572, N@10 0.603, R@1 0.395, R@5 0.723, R@10 0.820: 100% 48/48 [00:02<00:00, 23.22it/s]\n",
            "Epoch 98, loss 4.756 : 100% 48/48 [00:03<00:00, 13.53it/s]\n",
            "Val: N@1 0.404, N@5 0.577, N@10 0.608, R@1 0.404, R@5 0.725, R@10 0.823: 100% 48/48 [00:02<00:00, 23.07it/s]\n",
            "Epoch 99, loss 4.717 : 100% 48/48 [00:03<00:00, 13.54it/s]\n",
            "Val: N@1 0.405, N@5 0.574, N@10 0.607, R@1 0.405, R@5 0.719, R@10 0.820: 100% 48/48 [00:02<00:00, 23.38it/s]\n",
            "Epoch 100, loss 4.720 : 100% 48/48 [00:03<00:00, 13.51it/s]\n",
            "Val: N@1 0.404, N@5 0.573, N@10 0.607, R@1 0.404, R@5 0.718, R@10 0.823: 100% 48/48 [00:02<00:00, 23.31it/s]\n",
            "save model... 99\n",
            "Test model with test dataset? y/[n]: y\n",
            "Test best model with test set!\n",
            "Val: N@1 0.341, N@5 0.503, N@10 0.540, R@1 0.341, R@5 0.646, R@10 0.756: 100% 48/48 [00:02<00:00, 23.05it/s]\n",
            "{'Recall@100': 0.9998372395833334, 'NDCG@100': 0.5923463615278403, 'Recall@50': 0.9595811640222868, 'NDCG@50': 0.5856939914325873, 'Recall@20': 0.8576388893028101, 'NDCG@20': 0.5652625275154909, 'Recall@10': 0.7564561640222868, 'NDCG@10': 0.5396215704580148, 'Recall@5': 0.6455620663861433, 'NDCG@5': 0.5034968703985214, 'Recall@1': 0.34092881965140504, 'NDCG@1': 0.34092881965140504}\n"
          ],
          "name": "stdout"
        }
      ]
    },
    {
      "cell_type": "code",
      "metadata": {
        "id": "jv8jXoGl40Zw",
        "colab_type": "code",
        "colab": {}
      },
      "source": [
        "import sys\n"
      ],
      "execution_count": null,
      "outputs": []
    },
    {
      "cell_type": "code",
      "metadata": {
        "id": "D5JCyNskCYDI",
        "colab_type": "code",
        "colab": {
          "base_uri": "https://localhost:8080/",
          "height": 54
        },
        "outputId": "bd64e465-de85-4811-a4f2-764a9aca0cbe"
      },
      "source": [
        "print(sys.path)"
      ],
      "execution_count": null,
      "outputs": [
        {
          "output_type": "stream",
          "text": [
            "['', '/env/python', '/usr/lib/python36.zip', '/usr/lib/python3.6', '/usr/lib/python3.6/lib-dynload', '/usr/local/lib/python3.6/dist-packages', '/usr/lib/python3/dist-packages', '/usr/local/lib/python3.6/dist-packages/IPython/extensions', '/root/.ipython', '/content/BERT4Rec-Attribute/', '/content/BERT4Rec-Attribute/code/']\n"
          ],
          "name": "stdout"
        }
      ]
    },
    {
      "cell_type": "code",
      "metadata": {
        "id": "Nz5vGe2LCbDz",
        "colab_type": "code",
        "colab": {}
      },
      "source": [
        ""
      ],
      "execution_count": null,
      "outputs": []
    },
    {
      "cell_type": "code",
      "metadata": {
        "id": "Lc5-75NNCZir",
        "colab_type": "code",
        "colab": {}
      },
      "source": [
        "sys.path.append(\"/content/BERT4Rec-Attribute/code/\")"
      ],
      "execution_count": null,
      "outputs": []
    },
    {
      "cell_type": "code",
      "metadata": {
        "id": "oGTaAplRCgN6",
        "colab_type": "code",
        "colab": {}
      },
      "source": [
        ""
      ],
      "execution_count": null,
      "outputs": []
    }
  ]
}